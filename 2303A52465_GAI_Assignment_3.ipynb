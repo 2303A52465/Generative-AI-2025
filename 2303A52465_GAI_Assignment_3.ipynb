{
  "nbformat": 4,
  "nbformat_minor": 0,
  "metadata": {
    "colab": {
      "provenance": [],
      "authorship_tag": "ABX9TyPA0+vQXHogwMcTGaQW+SKk",
      "include_colab_link": true
    },
    "kernelspec": {
      "name": "python3",
      "display_name": "Python 3"
    },
    "language_info": {
      "name": "python"
    }
  },
  "cells": [
    {
      "cell_type": "markdown",
      "metadata": {
        "id": "view-in-github",
        "colab_type": "text"
      },
      "source": [
        "<a href=\"https://colab.research.google.com/github/2303A52465/Generative-AI-2025/blob/main/2303A52465_GAI_Assignment_3.ipynb\" target=\"_parent\"><img src=\"https://colab.research.google.com/assets/colab-badge.svg\" alt=\"Open In Colab\"/></a>"
      ]
    },
    {
      "cell_type": "markdown",
      "source": [
        "1).Write Python code without using any libraries to find the value of x at which the function f(x) shown in equation (1) has minimum value. Consider Gradient Descent Algorithm.\n",
        "\n",
        "f (x) = 5x^4 + 3x^2 + 10"
      ],
      "metadata": {
        "id": "3-XgwVnJyR6K"
      }
    },
    {
      "cell_type": "code",
      "execution_count": null,
      "metadata": {
        "colab": {
          "base_uri": "https://localhost:8080/"
        },
        "id": "l7J1VGaiuELN",
        "outputId": "d38f5de3-cf8f-4077-cc9e-7453eb548586"
      },
      "outputs": [
        {
          "output_type": "stream",
          "name": "stdout",
          "text": [
            "The minimum value is at x = 0.0, found in 1 iterations.\n"
          ]
        }
      ],
      "source": [
        "def gradient_descent(f_prime, initial_x, learning_rate, tolerance, max_iterations):\n",
        "    x = initial_x\n",
        "    for i in range(max_iterations):\n",
        "        gradient = f_prime(x)\n",
        "        new_x = x - learning_rate * gradient\n",
        "        if abs(new_x - x) < tolerance:\n",
        "            return new_x, i + 1\n",
        "        x = new_x\n",
        "    return x, max_iterations\n",
        "# Example usage\n",
        "# Function: f(x) = 5x^4 + 3x^2 + 10\n",
        "# Derivative: f'(x) = 20x^3 + 6x\n",
        "def f_prime(x):\n",
        "    return 20*x*x*x + 6*x\n",
        "initial_x = 0  # Starting point\n",
        "learning_rate = 0.1  # Step size\n",
        "tolerance = 1e-6  # Tolerance for stopping\n",
        "max_iterations = 1000  # Maximum number of iterations\n",
        "min_x, iterations = gradient_descent(f_prime, initial_x, learning_rate, tolerance, max_iterations)\n",
        "print(f\"The minimum value is at x = {min_x}, found in {iterations} iterations.\")"
      ]
    },
    {
      "cell_type": "markdown",
      "source": [
        "2).Write Python code without using any libraries to find the value of x and y at which the\n",
        "function g(x,y) shown in equation (2) has minimum value. Consider Gradient Descent Algorithm.\n",
        "\n",
        "f (x) = 3x^2 + 5e^−y + 10"
      ],
      "metadata": {
        "id": "TyVoUv0ryowl"
      }
    },
    {
      "cell_type": "code",
      "source": [
        "import sympy as sp\n",
        "# Define the symbols\n",
        "x, y = sp.symbols('x y')\n",
        "# Define the function\n",
        "f = 3 * x**2 + 5 * sp.exp(-y) + 10\n",
        "# Compute the partial derivatives\n",
        "f_prime_x = sp.diff(f, x)\n",
        "f_prime_y = sp.diff(f, y)\n",
        "# Display the partial derivatives\n",
        "print(f\"f'_x(x, y) = {f_prime_x}\")\n",
        "print(f\"f'_y(x, y) = {f_prime_y}\")\n",
        "# Gradient Descent Algorithm for two variables\n",
        "def gradient_descent_2d(f_prime_x, f_prime_y, initial_x, initial_y, learning_rate, tolerance, max_iterations):\n",
        "    x_val, y_val = initial_x, initial_y\n",
        "    for i in range(max_iterations):\n",
        "        grad_x = f_prime_x.subs({x: x_val, y: y_val})\n",
        "        grad_y = f_prime_y.subs({x: x_val, y: y_val})\n",
        "        new_x = x_val - learning_rate * grad_x\n",
        "        new_y = y_val - learning_rate * grad_y\n",
        "        if abs(new_x - x_val) < tolerance and abs(new_y - y_val) < tolerance:\n",
        "            return (new_x, new_y), i + 1\n",
        "        x_val, y_val = new_x, new_y\n",
        "    return (x_val, y_val), max_iterations\n",
        "# Initial guesses\n",
        "initial_x = 0\n",
        "initial_y = 0\n",
        "learning_rate = 0.1\n",
        "tolerance = 1e-6\n",
        "max_iterations = 1000\n",
        "# Run gradient descent\n",
        "min_values, iterations = gradient_descent_2d(f_prime_x, f_prime_y, initial_x, initial_y, learning_rate, tolerance, max_iterations)\n",
        "print(f\"The minimum value is at x = {min_values[0]}, y = {min_values[1]}, found in {iterations} iterations.\")"
      ],
      "metadata": {
        "colab": {
          "base_uri": "https://localhost:8080/"
        },
        "id": "ai2OH8x8x1P7",
        "outputId": "d2de4958-0e93-446d-a2ed-2fe1933278b7"
      },
      "execution_count": null,
      "outputs": [
        {
          "output_type": "stream",
          "name": "stdout",
          "text": [
            "f'_x(x, y) = 6*x\n",
            "f'_y(x, y) = -5*exp(-y)\n",
            "The minimum value is at x = 0, y = 6.21980920407898, found in 1000 iterations.\n"
          ]
        }
      ]
    },
    {
      "cell_type": "markdown",
      "source": [
        "3).Write Python code without using any libraries to find the value of x at which the\n",
        "sigmoid function z(x) shown in equation (3) has minimum value. Consider Gradient Descent\n",
        "Algorithm.\n",
        "\n",
        "z(x) = 1/1 + e^−x"
      ],
      "metadata": {
        "id": "Ty9kxfPHzhpU"
      }
    },
    {
      "cell_type": "code",
      "source": [
        "def compute_error(expected, predicted):\n",
        "    return expected - predicted\n",
        "def compute_square_error(error):\n",
        "    return error ** 2\n",
        "def gradient_descent(inputs, expected_outputs, initial_M, initial_C, learning_rate, tolerance, max_iterations):\n",
        "    M = initial_M\n",
        "    C = initial_C\n",
        "    n = len(inputs)\n",
        "    for iteration in range(max_iterations):\n",
        "        total_gradient_M = 0\n",
        "        total_gradient_C = 0\n",
        "        for i in range(n):\n",
        "            predicted = M * inputs[i] + C\n",
        "            error = compute_error(expected_outputs[i], predicted)\n",
        "            total_gradient_M += -2 * inputs[i] * error\n",
        "            total_gradient_C += -2 * error\n",
        "        # Average the gradients\n",
        "        gradient_M = total_gradient_M / n\n",
        "        gradient_C = total_gradient_C / n\n",
        "        # Update M and C\n",
        "        new_M = M - learning_rate * gradient_M\n",
        "        new_C = C - learning_rate * gradient_C\n",
        "        # Check for convergence\n",
        "        if abs(new_M - M) < tolerance and abs(new_C - C) < tolerance:\n",
        "            return (new_M, new_C), iteration + 1\n",
        "        M, C = new_M, new_C\n",
        "    return (M, C), max_iterations\n",
        "# Example usage\n",
        "inputs = [1, 2, 3, 4, 5]  # Example inputs\n",
        "expected_outputs = [2, 4, 6, 8, 10]  # Example expected outputs\n",
        "initial_M = 0.0  # Initial guess for M\n",
        "initial_C = 0.0  # Initial guess for C\n",
        "learning_rate = 0.01  # Learning rate\n",
        "tolerance = 1e-6  # Tolerance for stopping\n",
        "max_iterations = 1000  # Maximum number of iterations\n",
        "optimal_parameters, iterations = gradient_descent(inputs, expected_outputs, initial_M, initial_C, learning_rate, tolerance, max_iterations)\n",
        "print(f\"The optimal values are M = {optimal_parameters[0]}, C = {optimal_parameters[1]}, found in {iterations} iterations.\")"
      ],
      "metadata": {
        "colab": {
          "base_uri": "https://localhost:8080/"
        },
        "id": "UmkI02OEx8lV",
        "outputId": "5b195329-0bd8-4c87-8cb2-a5b6e7cd0d30"
      },
      "execution_count": null,
      "outputs": [
        {
          "output_type": "stream",
          "name": "stdout",
          "text": [
            "The optimal values are M = 1.9951803506719779, C = 0.017400463340610635, found in 1000 iterations.\n"
          ]
        }
      ]
    },
    {
      "cell_type": "markdown",
      "source": [
        "4) Find the optimal values of 𝑀 M and 𝐶 C for minimizing the square error 𝑆 𝐸 ( 𝐸 𝑥 𝑝 𝑒 𝑐 𝑡 𝑒 𝑑 𝑂 𝑢 𝑡 𝑝 𝑢 𝑡 − 𝑃 𝑟 𝑒 𝑑 𝑖 𝑐 𝑡 𝑒 𝑑 𝑂 𝑢 𝑡 𝑝 𝑢 𝑡 ) ^2 :**bold text**"
      ],
      "metadata": {
        "id": "ZMm-EywFz0DA"
      }
    },
    {
      "cell_type": "code",
      "source": [
        "def gradient_descent_linear(f_prime_m,f_prime_c,m0,c0,learning_rate=0.01,tolerance=1e-6,max_iter=1000):\n",
        "    m,c=m0,c0\n",
        "    for i in range(max_iter):\n",
        "        grad_m=f_prime_m(m,c)\n",
        "        grad_c=f_prime_c(m,c)\n",
        "        new_m=m-learning_rate*grad_m\n",
        "        new_c=c-learning_rate*grad_c\n",
        "        if abs(new_m-m)<tolerance and abs(new_c-c)<tolerance:\n",
        "            break\n",
        "        m,c=new_m,new_c\n",
        "    return m,c\n",
        "def f_prime_m(m,c):\n",
        "    x,y=1,2\n",
        "    return -2*x*(y-(m*x+c))\n",
        "def f_prime_c(m, c):\n",
        "    x, y = 1, 2\n",
        "    return -2*(y-(m*x+c))\n",
        "m0, c0 = 0.0, 0.0\n",
        "min_m, min_c = gradient_descent_linear(f_prime_m,f_prime_c,m0,c0)\n",
        "print(f\"Optimal values of M and C: {min_m}, {min_c}\")"
      ],
      "metadata": {
        "colab": {
          "base_uri": "https://localhost:8080/"
        },
        "id": "GZWgn70tx-La",
        "outputId": "a9eccd3c-527c-4d58-fff5-6faea80f66ab"
      },
      "execution_count": null,
      "outputs": [
        {
          "output_type": "stream",
          "name": "stdout",
          "text": [
            "Optimal values of M and C: 0.9999754234685202, 0.9999754234685202\n"
          ]
        }
      ]
    }
  ]
}